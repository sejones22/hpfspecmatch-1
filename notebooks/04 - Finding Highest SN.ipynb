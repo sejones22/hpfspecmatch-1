{
 "cells": [
  {
   "cell_type": "code",
   "execution_count": 1,
   "metadata": {},
   "outputs": [],
   "source": [
    "from importlib import reload\n",
    "import os\n",
    "import glob2\n",
    "import pandas as pd\n",
    "import numpy as np\n",
    "import sys\n",
    "#sys.path.pop(0)"
   ]
  },
  {
   "cell_type": "code",
   "execution_count": 2,
   "metadata": {},
   "outputs": [
    {
     "name": "stdout",
     "output_type": "stream",
     "text": [
      "AIRTOVAC (TRUE for HARPS, FALSE TRUE HPF):  False\n",
      "DIRNAME: /home/sejones/anaconda3/lib/python3.8/site-packages/hpfspecmatch-0.1.1-py3.8.egg\n",
      "/home/sejones/anaconda3/lib/python3.8/site-packages/hpfspecmatch-0.1.1-py3.8.egg/library/20210811_specmatch_nir/FITS\n"
     ]
    },
    {
     "data": {
      "text/plain": [
       "<module 'hpfspecmatch' from '/home/sejones/anaconda3/lib/python3.8/site-packages/hpfspecmatch-0.1.1-py3.8.egg/hpfspecmatch/__init__.py'>"
      ]
     },
     "execution_count": 2,
     "metadata": {},
     "output_type": "execute_result"
    }
   ],
   "source": [
    "import hpfspec\n",
    "import hpfspecmatch\n",
    "hpfspecmatch"
   ]
  },
  {
   "cell_type": "code",
   "execution_count": 3,
   "metadata": {},
   "outputs": [
    {
     "data": {
      "text/plain": [
       "['../input/kepler-45/Slope-20210730T025437_R01.optimal (1).fits',\n",
       " '../input/kepler-45/Slope-20210913T060259_R01.optimal.fits',\n",
       " '../input/kepler-45/Slope-20210913T054615_R01.optimal.fits',\n",
       " '../input/kepler-45/Slope-20210730T025437_R01.optimal.fits']"
      ]
     },
     "execution_count": 3,
     "metadata": {},
     "output_type": "execute_result"
    }
   ],
   "source": [
    "# List of fitsfiles\n",
    "regular_expression = '../input/kepler-45/*fits'\n",
    "\n",
    "input_fitsfiles = glob2.glob(regular_expression)\n",
    "input_fitsfiles # should be many fitsfiles"
   ]
  },
  {
   "cell_type": "code",
   "execution_count": 6,
   "metadata": {
    "scrolled": true
   },
   "outputs": [
    {
     "name": "stdout",
     "output_type": "stream",
     "text": [
      "Reading from file /home/sejones/anaconda3/lib/python3.8/site-packages/hpfspec-0.1.1-py3.8.egg/hpfspec/data/target_files/Kepler-45.config\n",
      "could not convert string to float: 'None' File does not exist!\n",
      "Querying SIMBAD for data\n",
      "Saving to file /home/sejones/anaconda3/lib/python3.8/site-packages/hpfspec-0.1.1-py3.8.egg/hpfspec/data/target_files/Kepler-45.config\n",
      "ra 292.87290249999995\n",
      "dec 41.06426555555555\n",
      "pmra 4.635\n",
      "pmdec -21.579\n",
      "px 2.5904\n",
      "rv None\n",
      "epoch 2451545.0\n",
      "Done\n",
      "WARNING: LEAP UPDATE=FALSE\n",
      "Barycentric shifting\n",
      "AIRTOVAC (TRUE for HARPS, FALSE TRUE HPF):  False\n",
      "RVabs iteration #1: -12.16667+- 0.00000km/s\n",
      "RVabs iteration #2: -10.78698+- 0.00000km/s\n",
      "berv=0.3715625493673348,rv=-10.786978022143122\n",
      "****SIGNAL TO NOISE**** 13.681353\n",
      "Reading from file /home/sejones/anaconda3/lib/python3.8/site-packages/hpfspec-0.1.1-py3.8.egg/hpfspec/data/target_files/Kepler-45.config\n",
      "could not convert string to float: 'None' File does not exist!\n",
      "Querying SIMBAD for data\n",
      "Saving to file /home/sejones/anaconda3/lib/python3.8/site-packages/hpfspec-0.1.1-py3.8.egg/hpfspec/data/target_files/Kepler-45.config\n",
      "ra 292.87290249999995\n",
      "dec 41.06426555555555\n",
      "pmra 4.635\n",
      "pmdec -21.579\n",
      "px 2.5904\n",
      "rv None\n",
      "epoch 2451545.0\n",
      "Done\n",
      "WARNING: LEAP UPDATE=FALSE\n",
      "Barycentric shifting\n",
      "AIRTOVAC (TRUE for HARPS, FALSE TRUE HPF):  False\n",
      "RVabs iteration #1: -11.83333+- 0.00000km/s\n",
      "RVabs iteration #2: -11.93077+- 0.00000km/s\n",
      "berv=-9.909990732900011,rv=-11.930769160492602\n",
      "****SIGNAL TO NOISE**** 14.08905\n",
      "Reading from file /home/sejones/anaconda3/lib/python3.8/site-packages/hpfspec-0.1.1-py3.8.egg/hpfspec/data/target_files/Kepler-45.config\n",
      "could not convert string to float: 'None' File does not exist!\n",
      "Querying SIMBAD for data\n",
      "Saving to file /home/sejones/anaconda3/lib/python3.8/site-packages/hpfspec-0.1.1-py3.8.egg/hpfspec/data/target_files/Kepler-45.config\n",
      "ra 292.87290249999995\n",
      "dec 41.06426555555555\n",
      "pmra 4.635\n",
      "pmdec -21.579\n",
      "px 2.5904\n",
      "rv None\n",
      "epoch 2451545.0\n",
      "Done\n",
      "WARNING: LEAP UPDATE=FALSE\n",
      "Barycentric shifting\n",
      "AIRTOVAC (TRUE for HARPS, FALSE TRUE HPF):  False\n",
      "RVabs iteration #1: -13.33333+- 0.00000km/s\n",
      "RVabs iteration #2: -12.49323+- 0.00000km/s\n",
      "berv=-9.89304379242323,rv=-12.49323471753621\n",
      "****SIGNAL TO NOISE**** 14.816266\n",
      "Reading from file /home/sejones/anaconda3/lib/python3.8/site-packages/hpfspec-0.1.1-py3.8.egg/hpfspec/data/target_files/Kepler-45.config\n",
      "could not convert string to float: 'None' File does not exist!\n",
      "Querying SIMBAD for data\n",
      "Saving to file /home/sejones/anaconda3/lib/python3.8/site-packages/hpfspec-0.1.1-py3.8.egg/hpfspec/data/target_files/Kepler-45.config\n",
      "ra 292.87290249999995\n",
      "dec 41.06426555555555\n",
      "pmra 4.635\n",
      "pmdec -21.579\n",
      "px 2.5904\n",
      "rv None\n",
      "epoch 2451545.0\n",
      "Done\n",
      "WARNING: LEAP UPDATE=FALSE\n",
      "Barycentric shifting\n",
      "AIRTOVAC (TRUE for HARPS, FALSE TRUE HPF):  False\n",
      "RVabs iteration #1: -12.16667+- 0.00000km/s\n",
      "RVabs iteration #2: -10.78698+- 0.00000km/s\n",
      "berv=0.3715625493673348,rv=-10.786978022143122\n",
      "****SIGNAL TO NOISE**** 13.681353\n",
      "14.816266 ../input/kepler-45/Slope-20210913T054615_R01.optimal.fits\n"
     ]
    }
   ],
   "source": [
    "# Read in all files as a HPFSpecList object\n",
    "high = -900\n",
    "highx = \"\"\n",
    "for x in input_fitsfiles:\n",
    "    HS = hpfspec.HPFSpectrum(x,targetname='Kepler-45')#, targetname=\"TIC-155867025\")\n",
    "    print('****SIGNAL TO NOISE****', HS.sn18)\n",
    "    if HS.sn18 > high:\n",
    "        high = HS.sn18\n",
    "        highx = x\n",
    "print(high, highx)\n",
    "#HS = hpfspec.HPFSpectrum(input_fitsfiles[0], targetname=\"TIC-387690507\")\n",
    "#HS.sn18"
   ]
  },
  {
   "cell_type": "code",
   "execution_count": 37,
   "metadata": {},
   "outputs": [
    {
     "name": "stdout",
     "output_type": "stream",
     "text": [
      "Reading from file /home/sejones/anaconda3/lib/python3.8/site-packages/hpfspec-0.1.1-py3.8.egg/hpfspec/data/target_files/GJ_849.config\n",
      "WARNING: LEAP UPDATE=FALSE\n",
      "Barycentric shifting\n",
      "AIRTOVAC (TRUE for HARPS, FALSE TRUE HPF):  False\n",
      "RVabs iteration #1: -15.33333+- 0.00000km/s\n",
      "RVabs iteration #2: -15.28010+- 0.00000km/s\n",
      "berv=-15.015821051036552,rv=-15.280096350945666\n"
     ]
    },
    {
     "data": {
      "text/plain": [
       "'GJ_849'"
      ]
     },
     "execution_count": 37,
     "metadata": {},
     "output_type": "execute_result"
    }
   ],
   "source": [
    "x =  '../input/Slope-20200925T044834_R01.optimal.fits'\n",
    "HS = hpfspec.HPFSpectrum(x)\n",
    "HS.object"
   ]
  },
  {
   "cell_type": "code",
   "execution_count": null,
   "metadata": {},
   "outputs": [],
   "source": []
  },
  {
   "cell_type": "code",
   "execution_count": null,
   "metadata": {},
   "outputs": [],
   "source": [
    "#../input/toi530/Slope-20200123T032454_R01.optimal.fits\n",
    "#../input/toi1278/Slope-20200606T082202_R01.optimal.fits\n",
    "#../input/tic289714468/Slope-20210106T064916_R01.optimal.fits\n",
    "#../input/tic468777766/Slope-20201126T073223_R01.optimal.fits"
   ]
  }
 ],
 "metadata": {
  "kernelspec": {
   "display_name": "Python 3",
   "language": "python",
   "name": "python3"
  },
  "language_info": {
   "codemirror_mode": {
    "name": "ipython",
    "version": 3
   },
   "file_extension": ".py",
   "mimetype": "text/x-python",
   "name": "python",
   "nbconvert_exporter": "python",
   "pygments_lexer": "ipython3",
   "version": "3.8.3"
  }
 },
 "nbformat": 4,
 "nbformat_minor": 4
}
