{
 "cells": [
  {
   "cell_type": "code",
   "execution_count": 1,
   "metadata": {},
   "outputs": [],
   "source": [
    "from importlib import reload\n",
    "import os\n",
    "import glob2\n",
    "import pandas as pd\n",
    "import numpy as np\n",
    "import sys\n",
    "import glob\n",
    "#sys.path.pop(0)"
   ]
  },
  {
   "cell_type": "code",
   "execution_count": 2,
   "metadata": {},
   "outputs": [
    {
     "name": "stdout",
     "output_type": "stream",
     "text": [
      "AIRTOVAC (TRUE for HARPS, FALSE TRUE HPF):  False\n"
     ]
    }
   ],
   "source": [
    "import hpfspecmatch"
   ]
  },
  {
   "cell_type": "markdown",
   "metadata": {},
   "source": [
    "# Summarizing orders for a given HPFSpecMatch Run"
   ]
  },
  {
   "cell_type": "code",
   "execution_count": 46,
   "metadata": {},
   "outputs": [
    {
     "name": "stdout",
     "output_type": "stream",
     "text": [
      "Saved to ../output/20201020_hpf_gto_targets/TYC2597-735-1/TYC2597-735-1_overview.csv\n",
      "Saved to ../output/20201020_hpf_gto_targets/TYC2597-735-1/TYC2597-735-1_med.csv\n"
     ]
    }
   ],
   "source": [
    "files = sorted(glob.glob('../output/20201020_hpf_gto_targets/TYC2597-735-1/*/*.pkl'))\n",
    "df_orders, df_orders_summary = hpfspecmatch.summarize_values_from_orders(files,'TYC2597-735-1')"
   ]
  },
  {
   "cell_type": "code",
   "execution_count": 47,
   "metadata": {},
   "outputs": [],
   "source": [
    "# This saves two .csv files"
   ]
  },
  {
   "cell_type": "code",
   "execution_count": 48,
   "metadata": {},
   "outputs": [],
   "source": [
    "#TYC2597-735-1"
   ]
  },
  {
   "cell_type": "code",
   "execution_count": 49,
   "metadata": {},
   "outputs": [
    {
     "data": {
      "text/html": [
       "<div>\n",
       "<style scoped>\n",
       "    .dataframe tbody tr th:only-of-type {\n",
       "        vertical-align: middle;\n",
       "    }\n",
       "\n",
       "    .dataframe tbody tr th {\n",
       "        vertical-align: top;\n",
       "    }\n",
       "\n",
       "    .dataframe thead th {\n",
       "        text-align: right;\n",
       "    }\n",
       "</style>\n",
       "<table border=\"1\" class=\"dataframe\">\n",
       "  <thead>\n",
       "    <tr style=\"text-align: right;\">\n",
       "      <th></th>\n",
       "      <th>parameters</th>\n",
       "      <th>median</th>\n",
       "      <th>std</th>\n",
       "    </tr>\n",
       "  </thead>\n",
       "  <tbody>\n",
       "    <tr>\n",
       "      <th>0</th>\n",
       "      <td>teff</td>\n",
       "      <td>5066.943940</td>\n",
       "      <td>343.848572</td>\n",
       "    </tr>\n",
       "    <tr>\n",
       "      <th>1</th>\n",
       "      <td>logg</td>\n",
       "      <td>4.553657</td>\n",
       "      <td>0.071289</td>\n",
       "    </tr>\n",
       "    <tr>\n",
       "      <th>2</th>\n",
       "      <td>feh</td>\n",
       "      <td>-0.099155</td>\n",
       "      <td>0.184875</td>\n",
       "    </tr>\n",
       "    <tr>\n",
       "      <th>3</th>\n",
       "      <td>vsini</td>\n",
       "      <td>19.999999</td>\n",
       "      <td>0.791161</td>\n",
       "    </tr>\n",
       "  </tbody>\n",
       "</table>\n",
       "</div>"
      ],
      "text/plain": [
       "  parameters       median         std\n",
       "0       teff  5066.943940  343.848572\n",
       "1       logg     4.553657    0.071289\n",
       "2        feh    -0.099155    0.184875\n",
       "3      vsini    19.999999    0.791161"
      ]
     },
     "execution_count": 49,
     "metadata": {},
     "output_type": "execute_result"
    }
   ],
   "source": [
    "df_orders_summary"
   ]
  },
  {
   "cell_type": "code",
   "execution_count": 50,
   "metadata": {
    "scrolled": false
   },
   "outputs": [
    {
     "data": {
      "text/html": [
       "<div>\n",
       "<style scoped>\n",
       "    .dataframe tbody tr th:only-of-type {\n",
       "        vertical-align: middle;\n",
       "    }\n",
       "\n",
       "    .dataframe tbody tr th {\n",
       "        vertical-align: top;\n",
       "    }\n",
       "\n",
       "    .dataframe thead th {\n",
       "        text-align: right;\n",
       "    }\n",
       "</style>\n",
       "<table border=\"1\" class=\"dataframe\">\n",
       "  <thead>\n",
       "    <tr style=\"text-align: right;\">\n",
       "      <th></th>\n",
       "      <th>teff</th>\n",
       "      <th>logg</th>\n",
       "      <th>feh</th>\n",
       "      <th>vsini</th>\n",
       "      <th>weights</th>\n",
       "      <th>filenames</th>\n",
       "    </tr>\n",
       "  </thead>\n",
       "  <tbody>\n",
       "    <tr>\n",
       "      <th>0</th>\n",
       "      <td>5281.007937</td>\n",
       "      <td>4.426823</td>\n",
       "      <td>0.093230</td>\n",
       "      <td>17.888906</td>\n",
       "      <td>[0.8465687187937698, 4.472011628480624e-08, 2....</td>\n",
       "      <td>../output/20201020_hpf_gto_targets/TYC2597-735...</td>\n",
       "    </tr>\n",
       "    <tr>\n",
       "      <th>1</th>\n",
       "      <td>4707.181445</td>\n",
       "      <td>4.570860</td>\n",
       "      <td>-0.077177</td>\n",
       "      <td>19.990602</td>\n",
       "      <td>[0.06169893729079423, 0.5551624851993917, 7.32...</td>\n",
       "      <td>../output/20201020_hpf_gto_targets/TYC2597-735...</td>\n",
       "    </tr>\n",
       "    <tr>\n",
       "      <th>2</th>\n",
       "      <td>5274.243331</td>\n",
       "      <td>4.535945</td>\n",
       "      <td>-0.085264</td>\n",
       "      <td>19.883780</td>\n",
       "      <td>[0.05294879308477769, 0.691612808577537, 0.002...</td>\n",
       "      <td>../output/20201020_hpf_gto_targets/TYC2597-735...</td>\n",
       "    </tr>\n",
       "    <tr>\n",
       "      <th>3</th>\n",
       "      <td>5298.054221</td>\n",
       "      <td>4.523908</td>\n",
       "      <td>-0.099155</td>\n",
       "      <td>20.000000</td>\n",
       "      <td>[1.4811687841022699e-07, 0.5342860156339263, 0...</td>\n",
       "      <td>../output/20201020_hpf_gto_targets/TYC2597-735...</td>\n",
       "    </tr>\n",
       "    <tr>\n",
       "      <th>4</th>\n",
       "      <td>4575.850341</td>\n",
       "      <td>4.598690</td>\n",
       "      <td>-0.337314</td>\n",
       "      <td>19.999999</td>\n",
       "      <td>[0.7652375171515535, 1.9227086228244204e-07, 1...</td>\n",
       "      <td>../output/20201020_hpf_gto_targets/TYC2597-735...</td>\n",
       "    </tr>\n",
       "    <tr>\n",
       "      <th>5</th>\n",
       "      <td>5066.943940</td>\n",
       "      <td>4.553657</td>\n",
       "      <td>-0.463455</td>\n",
       "      <td>20.000000</td>\n",
       "      <td>[0.657986018708637, 0.00038953565689287965, 1....</td>\n",
       "      <td>../output/20201020_hpf_gto_targets/TYC2597-735...</td>\n",
       "    </tr>\n",
       "    <tr>\n",
       "      <th>6</th>\n",
       "      <td>4547.057244</td>\n",
       "      <td>4.658020</td>\n",
       "      <td>-0.200314</td>\n",
       "      <td>20.000000</td>\n",
       "      <td>[0.26650228820705013, 0.2212941897529805, 0.14...</td>\n",
       "      <td>../output/20201020_hpf_gto_targets/TYC2597-735...</td>\n",
       "    </tr>\n",
       "  </tbody>\n",
       "</table>\n",
       "</div>"
      ],
      "text/plain": [
       "          teff      logg       feh      vsini  \\\n",
       "0  5281.007937  4.426823  0.093230  17.888906   \n",
       "1  4707.181445  4.570860 -0.077177  19.990602   \n",
       "2  5274.243331  4.535945 -0.085264  19.883780   \n",
       "3  5298.054221  4.523908 -0.099155  20.000000   \n",
       "4  4575.850341  4.598690 -0.337314  19.999999   \n",
       "5  5066.943940  4.553657 -0.463455  20.000000   \n",
       "6  4547.057244  4.658020 -0.200314  20.000000   \n",
       "\n",
       "                                             weights  \\\n",
       "0  [0.8465687187937698, 4.472011628480624e-08, 2....   \n",
       "1  [0.06169893729079423, 0.5551624851993917, 7.32...   \n",
       "2  [0.05294879308477769, 0.691612808577537, 0.002...   \n",
       "3  [1.4811687841022699e-07, 0.5342860156339263, 0...   \n",
       "4  [0.7652375171515535, 1.9227086228244204e-07, 1...   \n",
       "5  [0.657986018708637, 0.00038953565689287965, 1....   \n",
       "6  [0.26650228820705013, 0.2212941897529805, 0.14...   \n",
       "\n",
       "                                           filenames  \n",
       "0  ../output/20201020_hpf_gto_targets/TYC2597-735...  \n",
       "1  ../output/20201020_hpf_gto_targets/TYC2597-735...  \n",
       "2  ../output/20201020_hpf_gto_targets/TYC2597-735...  \n",
       "3  ../output/20201020_hpf_gto_targets/TYC2597-735...  \n",
       "4  ../output/20201020_hpf_gto_targets/TYC2597-735...  \n",
       "5  ../output/20201020_hpf_gto_targets/TYC2597-735...  \n",
       "6  ../output/20201020_hpf_gto_targets/TYC2597-735...  "
      ]
     },
     "execution_count": 50,
     "metadata": {},
     "output_type": "execute_result"
    }
   ],
   "source": [
    "df_orders"
   ]
  },
  {
   "cell_type": "code",
   "execution_count": null,
   "metadata": {},
   "outputs": [],
   "source": []
  }
 ],
 "metadata": {
  "kernelspec": {
   "display_name": "Python 3",
   "language": "python",
   "name": "python3"
  },
  "language_info": {
   "codemirror_mode": {
    "name": "ipython",
    "version": 3
   },
   "file_extension": ".py",
   "mimetype": "text/x-python",
   "name": "python",
   "nbconvert_exporter": "python",
   "pygments_lexer": "ipython3",
   "version": "3.8.3"
  }
 },
 "nbformat": 4,
 "nbformat_minor": 4
}
